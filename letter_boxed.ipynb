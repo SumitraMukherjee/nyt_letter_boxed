{
  "nbformat": 4,
  "nbformat_minor": 0,
  "metadata": {
    "colab": {
      "provenance": []
    },
    "kernelspec": {
      "name": "python3",
      "display_name": "Python 3"
    },
    "language_info": {
      "name": "python"
    }
  },
  "cells": [
    {
      "cell_type": "code",
      "source": [
        "from urllib.request import urlopen as f\n",
        "from itertools import product\n",
        "from collections import defaultdict\n",
        "\n",
        "def solve_letter_boxed():\n",
        "    \"\"\"Returns list of possible word-pairs that solve the puzzle\"\"\"\n",
        "    url='https://norvig.com/ngrams/enable1.txt' # word source\n",
        "    W = [w.decode(\"utf-8\").upper() for w in\n",
        "         f(url).read().splitlines() if len(w) >=  3] # all words\n",
        "    LTRS = input(\"Type in the 12 letters in order: \").upper()\n",
        "    TABOO = set()\n",
        "    for triplet in [LTRS[3*i:3*i+3] for i in range(4)]:\n",
        "        TABOO.update(set(''.join(p) for p in product(triplet, repeat=2)))\n",
        "    wds, V = [], defaultdict(list) # V[c] = list of all valid words that start with c\n",
        "    for w in W:\n",
        "        if all(c in LTRS for c in w):\n",
        "            if not any(w[i:i+2] in TABOO for i in range(len(w) -1)):\n",
        "                wds.append(w)\n",
        "                V[w[0]].append(w)\n",
        "    pairs = []\n",
        "    for w1 in wds:\n",
        "        for w2 in V[w1[-1]]:\n",
        "            if all(c in w1 + w2 for c in LTRS):\n",
        "                pairs.append((w1, w2))\n",
        "    print(f'\\n{len(pairs)} possible word-pairs found:')\n",
        "    for i, (w1, w2) in enumerate(pairs):\n",
        "        print(f'\\t{i+1}: {w1}, {w2}')\n",
        "    return\n",
        "\n",
        "solve_letter_boxed()"
      ],
      "metadata": {
        "colab": {
          "base_uri": "https://localhost:8080/"
        },
        "id": "wjMfLHdPXEZD",
        "outputId": "ed76a0bd-2d14-49cc-bad3-3f9098038331"
      },
      "execution_count": 17,
      "outputs": [
        {
          "output_type": "stream",
          "name": "stdout",
          "text": [
            "Type in the 12 letters in order: oraltuibnhcd\n",
            "\n",
            "21 possible word-pairs found:\n",
            "\t1: ABDUCT, TRIATHLON\n",
            "\t2: ANURIC, CLOTHBOUND\n",
            "\t3: AURIC, CLOTHBOUND\n",
            "\t4: BALDRIC, CLOTHBOUND\n",
            "\t5: BALDRIC, COTHURN\n",
            "\t6: BATHOLITHIC, CANDOUR\n",
            "\t7: BATHOLITHIC, CRUNODAL\n",
            "\t8: CLOTHBOUND, DIACRITIC\n",
            "\t9: CLOTHBOUND, DIACRITICAL\n",
            "\t10: CLOTHBOUND, DIURNAL\n",
            "\t11: CLOTHBOUND, DRUIDICAL\n",
            "\t12: CLOTHBOUND, DURIAN\n",
            "\t13: DIABOLIC, COTHURN\n",
            "\t14: DIACRITIC, CLOTHBOUND\n",
            "\t15: HOLANDRIC, CLOTHBOUND\n",
            "\t16: HOLANDRIC, CONURBATION\n",
            "\t17: HOLOTHURIAN, NONADIABATIC\n",
            "\t18: IATRIC, CLOTHBOUND\n",
            "\t19: TANTRIC, CLOTHBOUND\n",
            "\t20: TRIAC, CLOTHBOUND\n",
            "\t21: TRIADIC, CLOTHBOUND\n"
          ]
        }
      ]
    }
  ]
}